{
 "cells": [
  {
   "cell_type": "markdown",
   "metadata": {},
   "source": [
    "# The python exercises\n",
    "\n",
    "**Ex 0**: The Jupyter Notebooks are organized as a list of cells. There are two central kinds of cells, they are called **Code** and **Markdown**. The cell type can be set [using a keyboard shortcut](http://sowingseasons.com/blog/jupyter-keyboard-shortcuts.html), or using the menu above.\n",
    "\n",
    "The **Code** cells simply contain the Python code, no big deal.\n",
    "\n",
    "The **Markdown** cells contain text (explanations, sections, etc). The text is written in Markdown. Markdown allows you to write using an easy-to-read, easy-to-write plain text format, then convert it to structurally valid XHTML (or HTML). You can read about it here:\n",
    "\n",
    "http://daringfireball.net/projects/markdown/\n",
    "\n",
    "In the cell below, write a short text that demonstrates that you can\n",
    "* Create a section\n",
    "* Write words in bold and italics\n",
    "* Create lists\n",
    "* Establish a [hyperlink](https://en.wikipedia.org/wiki/Hyperlink)"
   ]
  },
  {
   "cell_type": "markdown",
   "metadata": {},
   "source": [
    "*[Write the answer to **Ex 0** here]*\n",
    "\n",
    "##### Created a section.\n",
    "\n",
    "Wrote words in __bold__ and _italic_.\n",
    "\n",
    "Created:\n",
    "* a\n",
    "* list\n",
    "\n",
    "Established a [hyperlink](https://en.wikipedia.org/wiki/Hyperlink)."
   ]
  },
  {
   "cell_type": "markdown",
   "metadata": {},
   "source": [
    "**Ex 1**: Create a list `a` that contains the numbers from $1$ to $1110$, incremented by one, using the `range` function."
   ]
  },
  {
   "cell_type": "code",
   "execution_count": 4,
   "metadata": {},
   "outputs": [],
   "source": [
    "a = list(range(1, 1111, 1))"
   ]
  },
  {
   "cell_type": "markdown",
   "metadata": {},
   "source": [
    "**Ex 2**: Show that you understand [slicing](http://stackoverflow.com/questions/509211/explain-pythons-slice-notation) in Python by extracting a list `b` with the numbers from $543$ to $779$ from the list created above."
   ]
  },
  {
   "cell_type": "code",
   "execution_count": 7,
   "metadata": {},
   "outputs": [],
   "source": [
    "b = a[542:779]"
   ]
  },
  {
   "cell_type": "markdown",
   "metadata": {},
   "source": [
    "**Ex 3**: Using `def`, define a function that takes as input a number $x$ and outputs the number multiplied by itself plus three $f(x) = x(x+3)$. "
   ]
  },
  {
   "cell_type": "code",
   "execution_count": 12,
   "metadata": {},
   "outputs": [],
   "source": [
    "def f(x):\n",
    "    return x * (x + 3)"
   ]
  },
  {
   "cell_type": "markdown",
   "metadata": {},
   "source": [
    "**Ex 4**: Apply this function to every element of the list `b` using a `for` loop. "
   ]
  },
  {
   "cell_type": "code",
   "execution_count": 13,
   "metadata": {},
   "outputs": [
    {
     "name": "stdout",
     "output_type": "stream",
     "text": [
      "[296478, 297568, 298660, 299754, 300850, 301948, 303048, 304150, 305254, 306360, 307468, 308578, 309690, 310804, 311920, 313038, 314158, 315280, 316404, 317530, 318658, 319788, 320920, 322054, 323190, 324328, 325468, 326610, 327754, 328900, 330048, 331198, 332350, 333504, 334660, 335818, 336978, 338140, 339304, 340470, 341638, 342808, 343980, 345154, 346330, 347508, 348688, 349870, 351054, 352240, 353428, 354618, 355810, 357004, 358200, 359398, 360598, 361800, 363004, 364210, 365418, 366628, 367840, 369054, 370270, 371488, 372708, 373930, 375154, 376380, 377608, 378838, 380070, 381304, 382540, 383778, 385018, 386260, 387504, 388750, 389998, 391248, 392500, 393754, 395010, 396268, 397528, 398790, 400054, 401320, 402588, 403858, 405130, 406404, 407680, 408958, 410238, 411520, 412804, 414090, 415378, 416668, 417960, 419254, 420550, 421848, 423148, 424450, 425754, 427060, 428368, 429678, 430990, 432304, 433620, 434938, 436258, 437580, 438904, 440230, 441558, 442888, 444220, 445554, 446890, 448228, 449568, 450910, 452254, 453600, 454948, 456298, 457650, 459004, 460360, 461718, 463078, 464440, 465804, 467170, 468538, 469908, 471280, 472654, 474030, 475408, 476788, 478170, 479554, 480940, 482328, 483718, 485110, 486504, 487900, 489298, 490698, 492100, 493504, 494910, 496318, 497728, 499140, 500554, 501970, 503388, 504808, 506230, 507654, 509080, 510508, 511938, 513370, 514804, 516240, 517678, 519118, 520560, 522004, 523450, 524898, 526348, 527800, 529254, 530710, 532168, 533628, 535090, 536554, 538020, 539488, 540958, 542430, 543904, 545380, 546858, 548338, 549820, 551304, 552790, 554278, 555768, 557260, 558754, 560250, 561748, 563248, 564750, 566254, 567760, 569268, 570778, 572290, 573804, 575320, 576838, 578358, 579880, 581404, 582930, 584458, 585988, 587520, 589054, 590590, 592128, 593668, 595210, 596754, 598300, 599848, 601398, 602950, 604504, 606060, 607618, 609178]\n"
     ]
    }
   ],
   "source": [
    "c = []\n",
    "\n",
    "for el in b:\n",
    "    c.append(f(el))\n",
    "    \n",
    "print(c)"
   ]
  },
  {
   "cell_type": "markdown",
   "metadata": {},
   "source": [
    "**Ex 5**: Do the same thing using a list comprehension."
   ]
  },
  {
   "cell_type": "code",
   "execution_count": 14,
   "metadata": {},
   "outputs": [
    {
     "name": "stdout",
     "output_type": "stream",
     "text": [
      "[296478, 297568, 298660, 299754, 300850, 301948, 303048, 304150, 305254, 306360, 307468, 308578, 309690, 310804, 311920, 313038, 314158, 315280, 316404, 317530, 318658, 319788, 320920, 322054, 323190, 324328, 325468, 326610, 327754, 328900, 330048, 331198, 332350, 333504, 334660, 335818, 336978, 338140, 339304, 340470, 341638, 342808, 343980, 345154, 346330, 347508, 348688, 349870, 351054, 352240, 353428, 354618, 355810, 357004, 358200, 359398, 360598, 361800, 363004, 364210, 365418, 366628, 367840, 369054, 370270, 371488, 372708, 373930, 375154, 376380, 377608, 378838, 380070, 381304, 382540, 383778, 385018, 386260, 387504, 388750, 389998, 391248, 392500, 393754, 395010, 396268, 397528, 398790, 400054, 401320, 402588, 403858, 405130, 406404, 407680, 408958, 410238, 411520, 412804, 414090, 415378, 416668, 417960, 419254, 420550, 421848, 423148, 424450, 425754, 427060, 428368, 429678, 430990, 432304, 433620, 434938, 436258, 437580, 438904, 440230, 441558, 442888, 444220, 445554, 446890, 448228, 449568, 450910, 452254, 453600, 454948, 456298, 457650, 459004, 460360, 461718, 463078, 464440, 465804, 467170, 468538, 469908, 471280, 472654, 474030, 475408, 476788, 478170, 479554, 480940, 482328, 483718, 485110, 486504, 487900, 489298, 490698, 492100, 493504, 494910, 496318, 497728, 499140, 500554, 501970, 503388, 504808, 506230, 507654, 509080, 510508, 511938, 513370, 514804, 516240, 517678, 519118, 520560, 522004, 523450, 524898, 526348, 527800, 529254, 530710, 532168, 533628, 535090, 536554, 538020, 539488, 540958, 542430, 543904, 545380, 546858, 548338, 549820, 551304, 552790, 554278, 555768, 557260, 558754, 560250, 561748, 563248, 564750, 566254, 567760, 569268, 570778, 572290, 573804, 575320, 576838, 578358, 579880, 581404, 582930, 584458, 585988, 587520, 589054, 590590, 592128, 593668, 595210, 596754, 598300, 599848, 601398, 602950, 604504, 606060, 607618, 609178]\n"
     ]
    }
   ],
   "source": [
    "c = [f(el) for el in b]\n",
    "\n",
    "print(c)"
   ]
  },
  {
   "cell_type": "markdown",
   "metadata": {},
   "source": [
    "**Ex 6**: Write the output of your function to a text file with one number per line."
   ]
  },
  {
   "cell_type": "code",
   "execution_count": 28,
   "metadata": {},
   "outputs": [],
   "source": [
    "file = open('test_file.txt', 'w')\n",
    "\n",
    "for i in c:\n",
    "    file.write(str(i) + '\\n')\n",
    "    \n",
    "# file.writelines([str(i) + '\\n' for i in c])\n",
    "\n",
    "file.close()"
   ]
  },
  {
   "cell_type": "markdown",
   "metadata": {},
   "source": [
    "**Ex 7**: Show that you know about strings using this example from https://learnpythonthehardway.org/python3/ex6.html (code reproduced below).\n",
    "\n",
    "1. Go through the code below and write a code comment above each line explaining it.\n",
    "1. Find all the places where a string is put inside a string. There are four places.\n",
    "1. Are you sure there are only four places? How do you know? Maybe I like lying.\n",
    "1. Explain why adding the two strings w and e with + makes a longer string.\n",
    "\n",
    "\n",
    "[**Hint**: If you feel this is too complex, try completing the prior learningthehardway exercises first. Start [here](https://learnpythonthehardway.org/python3/). "
   ]
  },
  {
   "cell_type": "code",
   "execution_count": 29,
   "metadata": {},
   "outputs": [
    {
     "name": "stdout",
     "output_type": "stream",
     "text": [
      "There are 10 types of people.\n",
      "Those who know binary and those who don't.\n",
      "I said: There are 10 types of people.\n",
      "I also said: 'Those who know binary and those who don't.'\n",
      "Isn't that joke so funny?! False\n",
      "This is the left side of...a string with a right side.\n"
     ]
    }
   ],
   "source": [
    "# Note from Sune: In Python, code comments follow the \"#\" character\n",
    "\n",
    "types_of_people = 10\n",
    "x = f\"There are {types_of_people} types of people.\"\n",
    "\n",
    "binary = \"binary\"\n",
    "do_not = \"don't\"\n",
    "y = f\"Those who know {binary} and those who {do_not}.\"\n",
    "\n",
    "print(x)\n",
    "print(y)\n",
    "\n",
    "print(f\"I said: {x}\")\n",
    "print(f\"I also said: '{y}'\")\n",
    "\n",
    "hilarious = False\n",
    "joke_evaluation = \"Isn't that joke so funny?! {}\"\n",
    "\n",
    "print(joke_evaluation.format(hilarious))\n",
    "\n",
    "w = \"This is the left side of...\"\n",
    "e = \"a string with a right side.\"\n",
    "\n",
    "print(w + e)"
   ]
  },
  {
   "cell_type": "markdown",
   "metadata": {},
   "source": [
    "*[Write the answer to **Ex 7**, 2-4 here]*\n",
    "\n",
    "See: [this link](https://learnpythonthehardway.org/python3/ex6.html)."
   ]
  },
  {
   "cell_type": "markdown",
   "metadata": {},
   "source": [
    "**Ex 8**: First, learn about JSON by reading the **[wikipedia page](https://en.wikipedia.org/wiki/JSON)**. Then answer the following two questions in the cell below. \n",
    "\n",
    "* What is `json`? What do the letters stand for?\n",
    "* Why is `json` superior to `xml`? (... or why not?)"
   ]
  },
  {
   "cell_type": "markdown",
   "metadata": {},
   "source": [
    "*[Write your answer to **Ex 8** here]*\n",
    "\n",
    "JSON = JavaScript Object Notation.\n",
    "\n",
    "JSON is superior to XML because of its ease of processing and interpretability."
   ]
  },
  {
   "cell_type": "markdown",
   "metadata": {},
   "source": [
    "**Ex 9a**: Use the `json` module (instructions on usage here: https://docs.python.org/3/library/json.html). \n",
    "\n",
    "First use `urllib` (https://docs.python.org/3/library/urllib.html), or another Python library, to download **[this file](https://raw.githubusercontent.com/suneman/socialgraphs2019/master/files/test.json)**. \n",
    "\n",
    "The downloaded file is a string when you first download it, but you can use the `json` library to \"load\" the string and decode it to a Python object, using `json.loads()`. (The decoded string is a python object, a list with a single element, a dictionary (with nested dictionaries inside it))."
   ]
  },
  {
   "cell_type": "code",
   "execution_count": 36,
   "metadata": {},
   "outputs": [
    {
     "name": "stdout",
     "output_type": "stream",
     "text": [
      "[{'created_at': '2015-08-24T08:32:44Z', 'trends': [{'url': 'http://twitter.com/search?q=%23rfcvff', 'query': '%23rfcvff', 'name': '#rfcvff', 'promoted_content': None}, {'url': 'http://twitter.com/search?q=%23EFBFCM', 'query': '%23EFBFCM', 'name': '#EFBFCM', 'promoted_content': None}, {'url': 'http://twitter.com/search?q=%23bifsje', 'query': '%23bifsje', 'name': '#bifsje', 'promoted_content': None}, {'url': 'http://twitter.com/search?q=nordstrand', 'query': 'nordstrand', 'name': 'nordstrand', 'promoted_content': None}, {'url': 'http://twitter.com/search?q=%23WhyILoveLiam', 'query': '%23WhyILoveLiam', 'name': '#WhyILoveLiam', 'promoted_content': None}, {'url': 'http://twitter.com/search?q=%23lv2015', 'query': '%23lv2015', 'name': '#lv2015', 'promoted_content': None}, {'url': 'http://twitter.com/search?q=%22Harald+Nielsen%22', 'query': '%22Harald+Nielsen%22', 'name': 'Harald Nielsen', 'promoted_content': None}, {'url': 'http://twitter.com/search?q=Fnatic', 'query': 'Fnatic', 'name': 'Fnatic', 'promoted_content': None}, {'url': 'http://twitter.com/search?q=Nash', 'query': 'Nash', 'name': 'Nash', 'promoted_content': None}, {'url': 'http://twitter.com/search?q=kjeldsen', 'query': 'kjeldsen', 'name': 'kjeldsen', 'promoted_content': None}], 'as_of': '2015-08-24T08:36:54Z', 'locations': [{'woeid': 23424796, 'name': 'Denmark'}]}]\n"
     ]
    }
   ],
   "source": [
    "import json\n",
    "import requests\n",
    "\n",
    "response = requests.get('https://raw.githubusercontent.com/suneman/socialgraphs2019/master/files/test.json')\n",
    "\n",
    "if (response.status_code == 200):\n",
    "    response_json = response.json()\n",
    "    \n",
    "print(response_json)"
   ]
  },
  {
   "cell_type": "markdown",
   "metadata": {},
   "source": [
    "**Ex 9b**: Now, let's take a look at the file you downloaded. First, just write the name of the variable that contains the decoded file content and hit enter to take a look at it. It's  the list of Twitter Trending topics, a few days ago."
   ]
  },
  {
   "cell_type": "code",
   "execution_count": 39,
   "metadata": {},
   "outputs": [
    {
     "name": "stdout",
     "output_type": "stream",
     "text": [
      "[{'as_of': '2015-08-24T08:36:54Z',\n",
      "  'created_at': '2015-08-24T08:32:44Z',\n",
      "  'locations': [{'name': 'Denmark', 'woeid': 23424796}],\n",
      "  'trends': [{'name': '#rfcvff',\n",
      "              'promoted_content': None,\n",
      "              'query': '%23rfcvff',\n",
      "              'url': 'http://twitter.com/search?q=%23rfcvff'},\n",
      "             {'name': '#EFBFCM',\n",
      "              'promoted_content': None,\n",
      "              'query': '%23EFBFCM',\n",
      "              'url': 'http://twitter.com/search?q=%23EFBFCM'},\n",
      "             {'name': '#bifsje',\n",
      "              'promoted_content': None,\n",
      "              'query': '%23bifsje',\n",
      "              'url': 'http://twitter.com/search?q=%23bifsje'},\n",
      "             {'name': 'nordstrand',\n",
      "              'promoted_content': None,\n",
      "              'query': 'nordstrand',\n",
      "              'url': 'http://twitter.com/search?q=nordstrand'},\n",
      "             {'name': '#WhyILoveLiam',\n",
      "              'promoted_content': None,\n",
      "              'query': '%23WhyILoveLiam',\n",
      "              'url': 'http://twitter.com/search?q=%23WhyILoveLiam'},\n",
      "             {'name': '#lv2015',\n",
      "              'promoted_content': None,\n",
      "              'query': '%23lv2015',\n",
      "              'url': 'http://twitter.com/search?q=%23lv2015'},\n",
      "             {'name': 'Harald Nielsen',\n",
      "              'promoted_content': None,\n",
      "              'query': '%22Harald+Nielsen%22',\n",
      "              'url': 'http://twitter.com/search?q=%22Harald+Nielsen%22'},\n",
      "             {'name': 'Fnatic',\n",
      "              'promoted_content': None,\n",
      "              'query': 'Fnatic',\n",
      "              'url': 'http://twitter.com/search?q=Fnatic'},\n",
      "             {'name': 'Nash',\n",
      "              'promoted_content': None,\n",
      "              'query': 'Nash',\n",
      "              'url': 'http://twitter.com/search?q=Nash'},\n",
      "             {'name': 'kjeldsen',\n",
      "              'promoted_content': None,\n",
      "              'query': 'kjeldsen',\n",
      "              'url': 'http://twitter.com/search?q=kjeldsen'}]}]\n"
     ]
    }
   ],
   "source": [
    "from pprint import pprint\n",
    "\n",
    "pprint(response_json)"
   ]
  },
  {
   "cell_type": "markdown",
   "metadata": {},
   "source": [
    "**Ex 9c**: The thing you've just decoded is now a list of length 1. What are the names of the keys organizing the dictionary at position 0 in the list? (Just write the code to produce the answer.) \n",
    "\n",
    "**Hint** use the `.keys()` method to easily get the keys of any dictionary."
   ]
  },
  {
   "cell_type": "code",
   "execution_count": 41,
   "metadata": {},
   "outputs": [
    {
     "data": {
      "text/plain": [
       "dict_keys(['created_at', 'trends', 'as_of', 'locations'])"
      ]
     },
     "execution_count": 41,
     "metadata": {},
     "output_type": "execute_result"
    }
   ],
   "source": [
    "response_json[0].keys()"
   ]
  },
  {
   "cell_type": "markdown",
   "metadata": {},
   "source": [
    "**Ex 9d**: Two small questions \n",
    "* What time did I create the list of Trending Topics?\n",
    "* Print the names of the trending topics (bonus for using a list comprehension)\n",
    "\n",
    "(Just write the code to produce the answer.)"
   ]
  },
  {
   "cell_type": "code",
   "execution_count": 47,
   "metadata": {},
   "outputs": [
    {
     "name": "stdout",
     "output_type": "stream",
     "text": [
      "2015-08-24T08:32:44Z\n",
      "\n",
      "['#rfcvff', '#EFBFCM', '#bifsje', 'nordstrand', '#WhyILoveLiam', '#lv2015', 'Harald Nielsen', 'Fnatic', 'Nash', 'kjeldsen']\n"
     ]
    }
   ],
   "source": [
    "# What time did I create the list of Trending Topics?\n",
    "print(response_json[0]['created_at'])\n",
    "print()\n",
    "\n",
    "# Print the names of the trending topics (bonus for using a list comprehension)\n",
    "print([obj['name'] for obj in response_json[0]['trends']])"
   ]
  }
 ],
 "metadata": {
  "anaconda-cloud": {},
  "kernelspec": {
   "display_name": "Python 3",
   "language": "python",
   "name": "python3"
  },
  "language_info": {
   "codemirror_mode": {
    "name": "ipython",
    "version": 3
   },
   "file_extension": ".py",
   "mimetype": "text/x-python",
   "name": "python",
   "nbconvert_exporter": "python",
   "pygments_lexer": "ipython3",
   "version": "3.7.7"
  }
 },
 "nbformat": 4,
 "nbformat_minor": 4
}
