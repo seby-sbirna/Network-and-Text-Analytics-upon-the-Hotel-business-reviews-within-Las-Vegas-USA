{
 "cells": [
  {
   "cell_type": "markdown",
   "metadata": {},
   "source": [
    "# Overview\n",
    "\n",
    "This week is all about working with data. I'm not going to lie to you. This part might be frustrating - but frustration is an integral part of learning. Real data is almost always messy & difficult ... and learning to deal with that fact, is a key part of being a data scientist. \n"
   ]
  },
  {
   "cell_type": "markdown",
   "metadata": {},
   "source": [
    "Enough about the process, let's get to the content. \n",
    "\n",
    "![Text](https://raw.githubusercontent.com/SocialComplexityLab/socialgraphs2020/master/files/DC_vs_marvel.png \"Great image choice, Sune\")\n",
    "\n",
    "Today, we will use network science and Wikipedia to learn about the relationships of **[DC](https://en.wikipedia.org/wiki/Lists_of_DC_Comics_characters)** and **[Marvel](https://en.wikipedia.org/wiki/Lists_of_Marvel_Comics_characters)** characters. \n",
    "\n",
    "To create the network, we will download the Wikipedia pages for all characters in each of the DC and Marvel universes. Next, we ill create the network of the pages that link to each other. Since wikipedia pages link to each other. So [Spider-Man](https://en.wikipedia.org/wiki/Spider-Man) links to [Superman](https://en.wikipedia.org/wiki/Superman), for example (it really does, but most links are \"within-universe\").\n",
    "\n",
    "Next time, we'll use our network skills (as well as new ones) to understand that network. Further down the line, we'll use natural language processing to understand the text displayed on those pages.\n",
    "\n",
    "But for today, the tasks are\n",
    "\n",
    "* Learn about regular expressions\n",
    "* Learn about Pandas dataframes\n",
    "* Download and store (for later use) all the character-pages from Wikipedia\n",
    "* Extract all the internal wikipedia-links that connect the characters on wikipedia\n",
    "* Generate the network of characters on wikipedia. \n",
    "* Calculate some simple network statistics."
   ]
  },
  {
   "cell_type": "markdown",
   "metadata": {},
   "source": [
    "## The informal intro (not to be missed)\n",
    "\n",
    "Today I talk about \n",
    "\n",
    "* The COVID-19 situation\n",
    "* Results of the user satisfaction questionnaire\n",
    "* Assignment 1\n",
    "* Today's exercises"
   ]
  },
  {
   "cell_type": "code",
   "execution_count": 1,
   "metadata": {},
   "outputs": [
    {
     "data": {
      "image/jpeg": "[encoded data removed]",
      "text/html": [
       "\n",
       "        <iframe\n",
       "            width=\"800\"\n",
       "            height=\"450\"\n",
       "            src=\"https://www.youtube.com/embed/FCP8HgvzZKc\"\n",
       "            frameborder=\"0\"\n",
       "            allowfullscreen\n",
       "        ></iframe>\n",
       "        "
      ],
      "text/plain": [
       "<IPython.lib.display.YouTubeVideo at 0x22a92434648>"
      ]
     },
     "execution_count": 1,
     "metadata": {},
     "output_type": "execute_result"
    }
   ],
   "source": [
    "from IPython.display import YouTubeVideo\n",
    "YouTubeVideo(\"FCP8HgvzZKc\",width=800, height=450)"
   ]
  },
  {
   "cell_type": "markdown",
   "metadata": {},
   "source": [
    "---\n",
    "\n",
    "# Prelude: Regular expressions\n",
    "\n",
    "Before we get started, we have to get a little head start on the _Natural Language Processing_ part of the class. This is a new direction for us, up to now, we've mostly been doing math-y stuff with Python, but today, we're going to be using Python to work through a text. The central thing we need to be able to do today, is to extract internal wikipedia links. And for that we need regular expressions.\n",
    "\n",
    "> _Exercises_: Regular expressions round 1\\.\n",
    "> \n",
    "> * Read [**this tutorial**](https://developers.google.com/edu/python/regular-expressions) to form an overview of regular expressions. This is important to understand the content of the tutorial (also very useful later), so you may actually want to work through the examples.\n",
    "> * Now, explain in your own words: what are regular expressions?"
   ]
  },
  {
   "cell_type": "markdown",
   "metadata": {
    "hidden": true
   },
   "source": [
    "**_Regular expressions are tiny programming language used for matching patterns within set of possible strings with specified rules._**"
   ]
  },
  {
   "cell_type": "code",
   "execution_count": 4,
   "metadata": {
    "hidden": true
   },
   "outputs": [
    {
     "name": "stdout",
     "output_type": "stream",
     "text": [
      "found word:cat\n"
     ]
    }
   ],
   "source": [
    "import re\n",
    "\n",
    "str = 'an example word:cat!!'\n",
    "match = re.search(r'word:\\w\\w\\w', str)\n",
    "\n",
    "# If-statement after search() tests if it succeeded\n",
    "if match:\n",
    "    print('found', match.group()) ## 'found word:cat'\n",
    "else:\n",
    "    print('did not find')"
   ]
  },
  {
   "cell_type": "code",
   "execution_count": 5,
   "metadata": {
    "hidden": true
   },
   "outputs": [
    {
     "name": "stdout",
     "output_type": "stream",
     "text": [
      "None\n",
      "<re.Match object; span=(2, 5), match='iig'>\n"
     ]
    }
   ],
   "source": [
    "# Search for pattern 'iii' in string 'piiig'.\n",
    "# All of the pattern must match, but it may appear anywhere.\n",
    "# On success, match.group() is matched text.\n",
    "\n",
    "match = re.search(r'iii', 'piiig') # found, match.group() == \"iii\"\n",
    "match = re.search(r'igs', 'piiig') # not found, match == None\n",
    "\n",
    "print(match)\n",
    "\n",
    "# . = any char but \\n\n",
    "match = re.search(r'..g', 'piiig') # found, match.group() == \"iig\"\n",
    "\n",
    "print(match)\n",
    "\n",
    "# \\d = digit char, \\w = word char\n",
    "match = re.search(r'\\d\\d\\d', 'p123g') # found, match.group() == \"123\"\n",
    "match = re.search(r'\\w\\w\\w', '@@abcd!!') # found, match.group() == \"abc\""
   ]
  },
  {
   "cell_type": "markdown",
   "metadata": {},
   "source": [
    "> * Provide an example of a regex to match 4 digits numbers (by this, I mean precisely 4 digits, you should not match any part of numbers with e.g. 5 digits). In your notebook, use `findall` to show that your regex works on this [test-text](https://raw.githubusercontent.com/SocialComplexityLab/socialgraphs2020/master/files/regex_exercise.txt). **Hint**: a great place to test out regular expressions is: https://regex101.com."
   ]
  },
  {
   "cell_type": "code",
   "execution_count": 7,
   "metadata": {
    "hidden": true
   },
   "outputs": [
    {
     "name": "stdout",
     "output_type": "stream",
     "text": [
      "['1234', '9999', '2345']\n"
     ]
    }
   ],
   "source": [
    "f = open('regex_exercise.txt','r')\n",
    "match = re.findall(r'\\d\\d\\d\\d',f.read())\n",
    "\n",
    "print(match)"
   ]
  },
  {
   "cell_type": "markdown",
   "metadata": {},
   "source": [
    "> * Provide an example of a regex to match words starting with \"super\". Show that it works on the [test-text](https://raw.githubusercontent.com/SocialComplexityLab/socialgraphs2020/master/files/regex_exercise.txt)."
   ]
  },
  {
   "cell_type": "code",
   "execution_count": 9,
   "metadata": {
    "hidden": true
   },
   "outputs": [
    {
     "name": "stdout",
     "output_type": "stream",
     "text": [
      "['superpolaroid', 'supertaxidermy', 'superbeer']\n"
     ]
    }
   ],
   "source": [
    "f1 = open('regex_exercise.txt','r')\n",
    "match1 = re.findall(r'super\\w+', f1.read()) \n",
    "\n",
    "print(match1)"
   ]
  },
  {
   "cell_type": "markdown",
   "metadata": {},
   "source": [
    "Finally, we need to figure out how how to match internal wiki links. Wiki links come in two flavors. They're always enclosed in double square brackets, e.g. `[[wiki-link]]` and can either occur like this:\n",
    "\n",
    "    ... some text [[Aristotle]] some more text ...\n",
    "\n",
    "which links to the page [`https://en.wikipedia.org/wiki/Aristotle`](https://en.wikipedia.org/wiki/Aristotle). \n",
    "\n",
    "The second flavor has two parts, so that links can handle spaces and other more fancy forms of references, here's an example:\n",
    "\n",
    "    ... some text [[John_McCain|John McCain]] some more text ...\n",
    "\n",
    "which links to the page [`https://en.wikipedia.org/wiki/John_McCain`](https://en.wikipedia.org/wiki/Eudemus_of_Rhodes). Now it's your turn."
   ]
  },
  {
   "cell_type": "markdown",
   "metadata": {},
   "source": [
    "> _Exercise_: Regular expressions round 2\\. Show that you can extract the wiki-links from the [test-text](https://raw.githubusercontent.com/SocialComplexityLab/socialgraphs2020/master/files/regex_exercise.txt). Perhaps you can find inspiration on stack overflow or similar. **Hint**: Try to solve this exercise on your own (that's what you will get the most out of - learning wise), but if you get stuck ... you will find the solution in one of the video lectures below.\n",
    "> "
   ]
  },
  {
   "cell_type": "code",
   "execution_count": 10,
   "metadata": {
    "hidden": true
   },
   "outputs": [
    {
     "data": {
      "text/plain": [
       "[('Bicycle', 'Bicycle(two-wheeled type)'), ('Pitchfork', 'Pitchfork Magazine')]"
      ]
     },
     "execution_count": 10,
     "metadata": {},
     "output_type": "execute_result"
    }
   ],
   "source": [
    "f1 = open('regex_exercise.txt','r')\n",
    "\n",
    "match1 = re.findall(r'\\[\\[([^\\]\\[:]+)\\|([^\\]\\[:]+)\\]\\]', f1.read()) \n",
    "match1"
   ]
  },
  {
   "cell_type": "code",
   "execution_count": 11,
   "metadata": {
    "hidden": true
   },
   "outputs": [
    {
     "data": {
      "text/plain": [
       "['[[drinking vinegar]]',\n",
       " '[[gentrify]]',\n",
       " '[[hashtag]]',\n",
       " '[[Bicycle|Bicycle(two-wheeled type)]]',\n",
       " '[[Pitchfork|Pitchfork Magazine]]']"
      ]
     },
     "execution_count": 11,
     "metadata": {},
     "output_type": "execute_result"
    }
   ],
   "source": [
    "f2 = open('regex_exercise.txt','r')\n",
    "\n",
    "match2 = re.findall(r'\\[\\[[^\\]\\[:]+\\]\\]', f2.read()) \n",
    "match2"
   ]
  },
  {
   "cell_type": "markdown",
   "metadata": {},
   "source": [
    "# Prelude part 2: Pandas DataFrames\n"
   ]
  },
  {
   "cell_type": "markdown",
   "metadata": {},
   "source": [
    "Before starting, we will also learn a bit about [pandas dataframes](https://pandas.pydata.org/pandas-docs/stable/generated/pandas.DataFrame.html), a very user-friendly data structure that you can use to manipulate tabular data. Pandas dataframes are implemented within the [pandas package] (https://pandas.pydata.org/).\n",
    "\n",
    "Pandas dataframes should be intuitive to use. **We suggest you to go through the [10 minutes to Pandas tutorial](https://pandas.pydata.org/pandas-docs/version/0.22/10min.html#min) to learn what you need to solve the next exercise.**"
   ]
  },
  {
   "cell_type": "markdown",
   "metadata": {},
   "source": [
    "---\n",
    "\n",
    "# Part A: Download the Wikipedia pages of characters"
   ]
  },
  {
   "cell_type": "markdown",
   "metadata": {},
   "source": [
    "It's time to download all of the pages of the characters. Use your experience with APIs from Week 1\\. To get started, I **strongly** recommend that you re-watch the **APIs video lecture** from that week - it contains lots of useful tips on this specific activity (yes, I had planned this all along!). I've included it below for your covenience."
   ]
  },
  {
   "cell_type": "code",
   "execution_count": 2,
   "metadata": {},
   "outputs": [
    {
     "data": {
      "image/jpeg": "[encoded data removed]",
      "text/html": [
       "\n",
       "        <iframe\n",
       "            width=\"800\"\n",
       "            height=\"450\"\n",
       "            src=\"https://www.youtube.com/embed/9l5zOfh0CRo\"\n",
       "            frameborder=\"0\"\n",
       "            allowfullscreen\n",
       "        ></iframe>\n",
       "        "
      ],
      "text/plain": [
       "<IPython.lib.display.YouTubeVideo at 0x22a93a027c8>"
      ]
     },
     "execution_count": 2,
     "metadata": {},
     "output_type": "execute_result"
    }
   ],
   "source": [
    "from IPython.display import YouTubeVideo\n",
    "YouTubeVideo(\"9l5zOfh0CRo\",width=800, height=450)"
   ]
  },
  {
   "cell_type": "markdown",
   "metadata": {},
   "source": [
    "Now, back in the day, I had all students first download the names of all the characters, starting from \n",
    "\n",
    "* https://en.wikipedia.org/wiki/Lists_of_Marvel_Comics_characters\n",
    "* https://en.wikipedia.org/wiki/Lists_of_DC_Comics_characters\n",
    "\n",
    "But that resulted in so much pain and suffering that recently I've decided against that. Instead, you can download all the names, nice and clean, here (it might still include couple of *noisy* links, but should be fine in 95% of records):\n",
    " \n",
    "* **[Marvel List](https://github.com/SocialComplexityLab/socialgraphs2020/blob/master/files/marvel_characters.csv)**\n",
    "* **[DC List](https://github.com/SocialComplexityLab/socialgraphs2020/blob/master/files/dc_characters.csv)**\n",
    "\n",
    "*The files contain names and corresponding wiki-link. If link if absent, then the character does not have a specific page and information about this particular character can be find in the [Marvel](https://en.wikipedia.org/wiki/Lists_of_Marvel_Comics_characters) or [DC](https://en.wikipedia.org/wiki/Lists_of_DC_Comics_characters) lists* **(BUT YOU DO NOT HAVE TO DO THAT - if you do not feel comfortable with extracting paragraphs from lists it is okay to ignore Comic characters with absent links)** ."
   ]
  },
  {
   "cell_type": "code",
   "execution_count": 154,
   "metadata": {},
   "outputs": [],
   "source": [
    "import pandas as pd\n",
    "import numpy as np\n",
    "import matplotlib.pyplot as plt\n",
    "import seaborn as sns\n",
    "\n",
    "import urllib\n",
    "import json\n",
    "import os\n",
    "\n",
    "sns.set()"
   ]
  },
  {
   "cell_type": "code",
   "execution_count": 30,
   "metadata": {},
   "outputs": [],
   "source": [
    "df_marvel = pd.read_csv('marvel_characters.csv',sep ='|')\n",
    "df_marvel = df_marvel.iloc[:,[1,2]]"
   ]
  },
  {
   "cell_type": "code",
   "execution_count": 14,
   "metadata": {},
   "outputs": [],
   "source": [
    "df_dc = pd.read_csv('dc_characters.csv',sep ='|')\n",
    "df_dc = df_dc.iloc[:,[1,2]]\n",
    "df_dc = df_dc.rename(columns = {'WikiLink;':'WikiLink'}, inplace = False)\n",
    "df_dc['WikiLink'] = df_dc['WikiLink'].str.strip(';')"
   ]
  },
  {
   "cell_type": "markdown",
   "metadata": {},
   "source": [
    "> ### A challenge\n",
    "> However, if you're feeling tough, you can head over to our [Hardcore List Parsing](https://github.com/SocialComplexityLab/socialgraphs2020/blob/master/files/Hardcore_List_Parsing.ipynb) notebook, full of tricks to help you try out creating these lists on your own! If you manage to do both Marvel and DC on our own, you will officially have graduated to brown-belt Python hacker. (Black belt challenges coming later in the year.)"
   ]
  },
  {
   "cell_type": "code",
   "execution_count": 109,
   "metadata": {},
   "outputs": [],
   "source": [
    "def scrape(page_title): # scraping the list page \n",
    "    baseurl = \"https://en.wikipedia.org/w/api.php?\"\n",
    "    action = \"action=query\"\n",
    "    title = \"titles=\" + urllib.parse.quote(page_title)\n",
    "    \n",
    "    content = \"prop=revisions&rvprop=content\"\n",
    "    dataformat =\"format=json\"\n",
    "\n",
    "    query = \"{}{}&{}&{}&{}\".format(baseurl, action, content, title, dataformat)\n",
    "    \n",
    "    wikiresponse = urllib.request.urlopen(query)\n",
    "    wikidata = wikiresponse.read()\n",
    "    wikitext = wikidata.decode('utf-8')\n",
    "    wikijson=json.loads(wikitext)\n",
    "    wiki = list(wikijson['query']['pages'].values())[0][u'revisions'][0][u'*']\n",
    "    \n",
    "    return wiki "
   ]
  },
  {
   "cell_type": "markdown",
   "metadata": {},
   "source": [
    "Downloading the Character pages:"
   ]
  },
  {
   "cell_type": "code",
   "execution_count": 113,
   "metadata": {},
   "outputs": [],
   "source": [
    "# for Marvel\n",
    "iteration = 0\n",
    "\n",
    "for row in df_marvel.iterrows():\n",
    "    \n",
    "    key = row[1]['CharacterName']\n",
    "    link = row[1]['WikiLink']\n",
    "    filename = os.path.join('./data/marvel/', key + '.txt')\n",
    "    \n",
    "    if (link != '' and pd.isna(link) == False): ### we either follow a link\n",
    "        try:\n",
    "            value = scrape(link)\n",
    "        except:\n",
    "            continue\n",
    "    else: ## or search for content in a wiki-list\n",
    "        char = key[0]\n",
    "        if char.isnumeric():\n",
    "            char = '0–9'\n",
    "        value = scrape('List_of_Marvel_Comics_characters:_' + char.upper())\n",
    "        pattern = r'(?<!\\=)\\={2}(%s[^\\=]*)\\={2}((?:(?![^\\=]\\={2}[^\\=]).)*)' % key ## for marvel\n",
    "        value = re.findall(pattern,value.replace('\\n',''))\n",
    "        value = value[-1]\n",
    "\n",
    "    with open(filename, 'w+', encoding = 'utf-8') as textfile:\n",
    "        try:\n",
    "            textfile.write(u'' + value)\n",
    "        except:\n",
    "            textfile.write(u'' + value[1])\n",
    "            \n",
    "    iteration += 1"
   ]
  },
  {
   "cell_type": "code",
   "execution_count": 130,
   "metadata": {},
   "outputs": [],
   "source": [
    "# for DC\n",
    "iteration = 0\n",
    "\n",
    "for row in df_dc.iterrows():\n",
    "    \n",
    "    try:\n",
    "        key = row[1]['CharacterName'].strip()\n",
    "        link = row[1]['WikiLink']\n",
    "        filename = 'data/dc/' +  key + '.txt'\n",
    "    except:\n",
    "        continue\n",
    "    \n",
    "    if link != '': ### we either follow a link\n",
    "        try:\n",
    "            value = scrape(link)\n",
    "        except:\n",
    "            continue\n",
    "    else: ## or search for content in a wiki-list\n",
    "        char = key[0]\n",
    "        if char.isnumeric():\n",
    "            char = '0–9'\n",
    "            value = scrape('List of DC Comics characters: ' + char.upper())\n",
    "            pattern = r'(?<!\\=)\\={2}([^\\=]*)\\={2}((?:(?![^\\=]\\={2}[^\\=]).)*)' ## for DC\n",
    "            value = re.findall(pattern,value.replace('\\n',' '))\n",
    "            value = value[-1]\n",
    "        \n",
    "        else:\n",
    "            value = scrape('List_of_DC_Comics_characters:_' + char.upper())\n",
    "            pattern = r'(?<!\\=)\\={3}(%s[^\\=]*)\\={3}((?:(?![^\\=]\\={3}[^\\=]).)*)' % key ## for DC\n",
    "            value = re.findall(pattern,value.replace('\\n',' '))\n",
    "            try:\n",
    "                value = value[-1]\n",
    "            except:\n",
    "                continue\n",
    "\n",
    "    with open(filename,'w',encoding = 'utf-8') as textfile:\n",
    "        try:\n",
    "            textfile.write(u'' + value)\n",
    "        except:\n",
    "            textfile.write(u'' + value[1])\n",
    "        \n",
    "    iteration += 1"
   ]
  },
  {
   "cell_type": "markdown",
   "metadata": {},
   "source": [
    "---\n",
    "\n",
    "# Part B: Building the networks\n",
    "\n",
    "Now, we're going to build one huge NetworkX directed graph, which includes both DC and Marvel Characters. \n",
    "\n",
    "The nodes in the network will be all the characters, and we will place an edge between nodes $A$ and $B$ if the Wikipedia page of node $A$ links to the Wikipedia page of node $B$.\n",
    "\n",
    " "
   ]
  },
  {
   "cell_type": "code",
   "execution_count": 3,
   "metadata": {},
   "outputs": [
    {
     "data": {
      "image/jpeg": "[encoded data removed]",
      "text/html": [
       "\n",
       "        <iframe\n",
       "            width=\"800\"\n",
       "            height=\"450\"\n",
       "            src=\"https://www.youtube.com/embed/9i_c31v9Nb0\"\n",
       "            frameborder=\"0\"\n",
       "            allowfullscreen\n",
       "        ></iframe>\n",
       "        "
      ],
      "text/plain": [
       "<IPython.lib.display.YouTubeVideo at 0x22a93a02c48>"
      ]
     },
     "execution_count": 3,
     "metadata": {},
     "output_type": "execute_result"
    }
   ],
   "source": [
    "YouTubeVideo(\"9i_c31v9Nb0\",width=800, height=450)"
   ]
  },
  {
   "cell_type": "markdown",
   "metadata": {},
   "source": [
    "> \n",
    "> _Exercise_: Build the network of Comics Characters "
   ]
  },
  {
   "cell_type": "code",
   "execution_count": 131,
   "metadata": {},
   "outputs": [],
   "source": [
    "import networkx as nx\n",
    "\n",
    "# Create the Comics network as a directed graph\n",
    "comics_graph = nx.DiGraph()"
   ]
  },
  {
   "cell_type": "code",
   "execution_count": 132,
   "metadata": {},
   "outputs": [],
   "source": [
    "# Add nodes and with data (character name & universe)\n",
    "\n",
    "# For MARVEL\n",
    "for character_name in df_marvel['CharacterName']:\n",
    "    comics_graph.add_node(character_name)\n",
    "     \n",
    "    # define universe\n",
    "    comics_graph.nodes[character_name]['universe'] = 'marvel'\n",
    "    \n",
    "# For DC\n",
    "for character_name in df_dc['CharacterName']:\n",
    "    comics_graph.add_node(character_name)\n",
    "\n",
    "    # define universe\n",
    "    comics_graph.nodes[character_name]['universe'] = 'dc'"
   ]
  },
  {
   "cell_type": "markdown",
   "metadata": {},
   "source": [
    "> Now we can build the network. Isn't this a little bit cool? What a dataset :)\n",
    "\n",
    "> The overall strategy for this is the following: \n",
    "> Take the pages you have downloaded for each character. \n",
    "> Each page corresponds to a politician, which is a node in your network. \n",
    "> Find all the hyperlinks in a characters page that link to another node of the network (e.g. an other character). \n",
    "> There are many ways to do this, but below, I've tried to break it down into natural steps. \n",
    "> Keep in mind that the network should include **both** DC and Marvel characters (and that it is possible that some DC Characters will have links to Marvel Characters and vice-versa).\n",
    "> \n",
    "> **Note**: When you add a node to the network, also include an `attribute` (i.e. that specifies the universe where the character comes from; either DC, or Marvel)\n",
    ">\n",
    ">\n",
    "> * Use a regular expression to extract all outgoing links from each of the pages you downloaded above. \n",
    "> * For each link you extract, check if the target is a character. If yes, keep it. If no, discard it."
   ]
  },
  {
   "cell_type": "code",
   "execution_count": 133,
   "metadata": {},
   "outputs": [],
   "source": [
    "# Funtion for adding the links/references between the characters to the graph\n",
    "def link_input(df, path_name, graph):\n",
    "    for character_name_in in df['CharacterName']:\n",
    "\n",
    "        # Load the page of the superhero, in a try-except clause for error catching\n",
    "        try:\n",
    "            with open(path_name + character_name_in + '.txt', 'r', encoding = 'utf8') as wiki_page:\n",
    "                page = wiki_page.read()\n",
    "\n",
    "            # Get all the reference links on the page (using regex)\n",
    "            links = re.findall('\\[{2}((?!.+?:)([^\\]\\[]+)\\|([^\\]\\[]+)|([^\\|]+?))\\]{2}', page)\n",
    "            reference_links = [(tuple(int(x) if x.isdigit() else x for x in _ if x)) for _ in links]\n",
    "\n",
    "            for i in range(len(reference_links)):\n",
    "\n",
    "                for character_name_out in df['CharacterName']:\n",
    "                    if character_name_out == reference_links[i][0]:\n",
    "                        # Add edge 1 by 1\n",
    "                        graph.add_edge(character_name_in, reference_links[i][0])\n",
    "        except:\n",
    "            pass\n",
    "        \n",
    "    return graph"
   ]
  },
  {
   "cell_type": "code",
   "execution_count": 134,
   "metadata": {},
   "outputs": [],
   "source": [
    "comics_graph = link_input(df = df_dc, path_name = './data/dc/', graph = comics_graph)\n",
    "comics_graph = link_input(df = df_marvel, path_name = './data/marvel/', graph = comics_graph)"
   ]
  },
  {
   "cell_type": "markdown",
   "metadata": {},
   "source": [
    "> * Use a NetworkX [`DiGraph`](https://networkx.github.io/documentation/development/reference/classes.digraph.html) to store the network. Store also the properties of the nodes (i.e. from which universe they hail).\n",
    "> * When have you finished, you'll notice that some nodes do not have any out- or in- degrees. You may *discard* those from the network."
   ]
  },
  {
   "cell_type": "code",
   "execution_count": 135,
   "metadata": {},
   "outputs": [],
   "source": [
    "# Remove the isolated nodes from the graph\n",
    "comics_graph.remove_nodes_from(list(nx.isolates(comics_graph)))"
   ]
  },
  {
   "cell_type": "markdown",
   "metadata": {},
   "source": [
    "> *Exercise*: Simple network statistics and analysis\n",
    "\n",
    "> * What is the number of nodes in the network? "
   ]
  },
  {
   "cell_type": "code",
   "execution_count": 139,
   "metadata": {},
   "outputs": [
    {
     "name": "stdout",
     "output_type": "stream",
     "text": [
      "The number of nodes in the Comics network is: 2672\n"
     ]
    }
   ],
   "source": [
    "print(\"The number of nodes in the Comics network is:\", comics_graph.number_of_nodes())"
   ]
  },
  {
   "cell_type": "markdown",
   "metadata": {},
   "source": [
    "> * More importantly, what is the number of links?"
   ]
  },
  {
   "cell_type": "code",
   "execution_count": 140,
   "metadata": {},
   "outputs": [
    {
     "name": "stdout",
     "output_type": "stream",
     "text": [
      "The number of links in the Comics network is: 22397\n"
     ]
    }
   ],
   "source": [
    "print(\"The number of links in the Comics network is:\", comics_graph.number_of_edges())"
   ]
  },
  {
   "cell_type": "markdown",
   "metadata": {},
   "source": [
    "> * What is the number of links connecting Marvel and DC? What do those links mean?"
   ]
  },
  {
   "cell_type": "markdown",
   "metadata": {},
   "source": [
    "We will find the total number of directed links which connect the two universes below. \n",
    "\n",
    "Since this is a directed graph, we do not need to worry about counting links twice, since, in this case, every link will be unique due to its direction."
   ]
  },
  {
   "cell_type": "code",
   "execution_count": 141,
   "metadata": {},
   "outputs": [],
   "source": [
    "number_of_links_between_universes = 0\n",
    "\n",
    "for node_1_name, node_2_name in list(comics_graph.edges()):\n",
    "    \n",
    "    # Retrieve the universe of the outgoing node (#1)\n",
    "    node_1_universe = comics_graph.nodes[node_1_name]['universe']\n",
    "    \n",
    "    # Retrieve the universe of the receiving node (#2)\n",
    "    node_2_universe = comics_graph.nodes[node_2_name]['universe']\n",
    "    \n",
    "    # If the unique link is happening between two universes, then increment the total number of such links found\n",
    "    if (node_1_universe != node_2_universe):\n",
    "        number_of_links_between_universes += 1"
   ]
  },
  {
   "cell_type": "code",
   "execution_count": 142,
   "metadata": {},
   "outputs": [
    {
     "name": "stdout",
     "output_type": "stream",
     "text": [
      "The number of links between the two universes is: 165\n"
     ]
    }
   ],
   "source": [
    "print(\"The number of links between the two universes is:\", number_of_links_between_universes)"
   ]
  },
  {
   "cell_type": "markdown",
   "metadata": {},
   "source": [
    "<span style=\"color:blue\">The links which we found to connect the two universes are representing cross-overs between the different universes. This happens most likely when two comic book creators or authors decide to collaborate, or reward fans with such events. </span>"
   ]
  },
  {
   "cell_type": "markdown",
   "metadata": {},
   "source": [
    "> * Plot the in and out-degree distributions. What do you observe? Can you explain why the in-degree distribution is different from the out-degree distribution?\n",
    ">     * Compare the degree distribution to a *random network* with the same number of nodes and *p*\n",
    ">     * Compare the degree distribution to a *scale-free* network with the same number of nodes."
   ]
  },
  {
   "cell_type": "markdown",
   "metadata": {},
   "source": [
    "Let us plot the in-degree distribution, in linear and log-log scale, using `np.histogram`:"
   ]
  },
  {
   "cell_type": "code",
   "execution_count": 149,
   "metadata": {},
   "outputs": [
    {
     "name": "stdout",
     "output_type": "stream",
     "text": [
      "The maximum in-degree in our network is: 570\n",
      "The minimum in-degree in our network is: 1\n"
     ]
    }
   ],
   "source": [
    "# Here, we have discarded the nodes with degree 0\n",
    "in_degree_list = [x[1] for x in list(comics_graph.in_degree()) if x[1] != 0]\n",
    "\n",
    "max_in_degree = max(in_degree_list)\n",
    "min_in_degree = min(in_degree_list)\n",
    "\n",
    "print('The maximum in-degree in our network is:', max_in_degree)\n",
    "print('The minimum in-degree in our network is:', min_in_degree)"
   ]
  },
  {
   "cell_type": "code",
   "execution_count": 155,
   "metadata": {},
   "outputs": [
    {
     "data": {
      "image/png": "[encoded data removed]",
      "text/plain": [
       "<Figure size 1296x360 with 2 Axes>"
      ]
     },
     "metadata": {},
     "output_type": "display_data"
    }
   ],
   "source": [
    "hist, bins = np.histogram(in_degree_list, bins = len(set(in_degree_list)))\n",
    "\n",
    "fig, axs = plt.subplots(1, 2, figsize = (18, 5))\n",
    "\n",
    "counts = axs[0].hist(in_degree_list, bins = bins, ec = \"white\")\n",
    "axs[0].set_title('Histogram of the in-degree distribution for the Comics network [Isolated]')\n",
    "axs[0].set_yticks(ticks = range(0, max(hist) + 1, 100));\n",
    "axs[0].set_xlabel('In-degree (linear)')\n",
    "axs[0].set_ylabel('Frequency')\n",
    "\n",
    "axs[1].loglog(bins[:-1], hist, 'bo', markersize = 7)\n",
    "axs[1].set_title('In-degree distribution (Log-Log) for the Comics network [Isolated]')\n",
    "axs[1].set_xlabel('In-degree (log-log)')\n",
    "axs[1].set_ylabel('Frequency');"
   ]
  },
  {
   "cell_type": "markdown",
   "metadata": {},
   "source": [
    "Now, we will do the same for the out-degree distribution:"
   ]
  },
  {
   "cell_type": "code",
   "execution_count": 156,
   "metadata": {},
   "outputs": [
    {
     "name": "stdout",
     "output_type": "stream",
     "text": [
      "The maximum out-degree in our network is: 67\n",
      "The minimum out-degree in our network is: 1\n"
     ]
    }
   ],
   "source": [
    "out_degree_list = [x[1] for x in list(comics_graph.out_degree()) if x[1] != 0]\n",
    "\n",
    "max_out_degree = max(out_degree_list)\n",
    "min_out_degree = min(out_degree_list)\n",
    "\n",
    "print('The maximum out-degree in our network is:', max_out_degree)\n",
    "print('The minimum out-degree in our network is:', min_out_degree)"
   ]
  },
  {
   "cell_type": "code",
   "execution_count": 157,
   "metadata": {},
   "outputs": [
    {
     "data": {
      "image/png": "[encoded data removed]",
      "text/plain": [
       "<Figure size 1296x360 with 2 Axes>"
      ]
     },
     "metadata": {},
     "output_type": "display_data"
    }
   ],
   "source": [
    "hist, bins = np.histogram(out_degree_list, bins = len(set(out_degree_list)))\n",
    "\n",
    "fig, axs = plt.subplots(1, 2, figsize = (18, 5))\n",
    "\n",
    "counts = axs[0].hist(out_degree_list, bins = bins, ec = \"white\")\n",
    "axs[0].set_title('Histogram of the out-degree distribution for the Comics network [Isolated]')\n",
    "axs[0].set_yticks(ticks = range(0, max(hist) + 1, 100));\n",
    "axs[0].set_xlabel('Out-degree (linear)')\n",
    "axs[0].set_ylabel('Frequency')\n",
    "\n",
    "axs[1].loglog(bins[:-1], hist, 'bo', markersize = 7)\n",
    "axs[1].set_title('Out-degree distribution (Log-Log) for the Comics network [Isolated]')\n",
    "axs[1].set_xlabel('Out-degree (log-log)')\n",
    "axs[1].set_ylabel('Frequency');"
   ]
  },
  {
   "cell_type": "markdown",
   "metadata": {},
   "source": [
    "<span style=\"color:blue\">It seems that the in-degree distribution follows a power-law distribution, much like a scale-free network. It can be clearly seen from the plot and the printing of the max/min in-degree values that there are a select few \"hub\" nodes which recieve a very large amount of connections from other characters, while most of the network is actually connected only with very few other nodes $(d_{in} < 100)$.</span>\n",
    "\n",
    "<br>\n",
    "\n",
    "<span style=\"color:blue\">For the out-degree distribution, it is more tricky. It doesn't seem to be a pure power law, since there are \"uneven\" local peaks in the degree distribution, however it seems that it still behaves largely according to the power-law rules, albeit in a \"toned down\" manner. The scale of out-degrees decreases as frequency increases, although not as rapidly as we've seen previously. There still seems to be an outgoing link \"hub\", with more than 60 outgoing connections.</span>\n",
    "\n",
    "<br>"
   ]
  },
  {
   "cell_type": "markdown",
   "metadata": {},
   "source": [
    "<span style=\"color:blue\">The in-degree distribution behaves largely different than the out-degree one, since the in-degree distribution is a direct measure of importance and popularity within the comic book universes, meaning that the more characters connect with a node, the more important that node is to a universe, since it probably means that most volumes published contained the node in its writing. On the other hand, the out-degree distribution refers to how many connections a particular node directly links to. High values for this would probably mean that a character directly influences a number of other characters' stories, which is usually the case for supporting characters, for example.</span>\n",
    "\n",
    "<br>\n",
    "\n",
    "<span style=\"color:blue\">It seems very normal the number of in-links of a node would generally be higher than its out-links. This is a fact that can also be seen from the scale of the two plots, since the \"in-links\" are aggregating all the Wiki mentions across the character pages from the website, whereas \"out-links\" are relating just to one single Wiki page (that of the character itself). We would expect an aggregation across 2000+ pages to give a larger number of mentions than the number of links can normally can be written about within one single page.</span>"
   ]
  },
  {
   "cell_type": "markdown",
   "metadata": {},
   "source": [
    "> * Who are top 5 most connected characters? (Report results for in-degrees and out-degrees). Comment on your findings. Is this what you would have expected."
   ]
  },
  {
   "cell_type": "markdown",
   "metadata": {},
   "source": [
    "First, we have to find the list of in- and out-degrees for each character individually, before we show the 5 most connected ones:"
   ]
  },
  {
   "cell_type": "code",
   "execution_count": 143,
   "metadata": {},
   "outputs": [],
   "source": [
    "# Here, we sort all the nodes of the Comics network by their 'IN' degree\n",
    "\n",
    "# The 'key' attribute of the sorted() function must be callable (i.e. lambda function), and shows what should we sort the list by. \n",
    "# In our case, we should sort the list by the second element of each tuple in the list, which is actually the \"in-degree\" value\n",
    "connected_nodes_in_list = sorted(dict(comics_graph.in_degree()).items(), key = lambda x: x[1], reverse = True)"
   ]
  },
  {
   "cell_type": "code",
   "execution_count": 144,
   "metadata": {},
   "outputs": [],
   "source": [
    "# Here, we sort all the nodes of the Comics network by their 'OUT' degree\n",
    "\n",
    "# Exactly the same as previously\n",
    "connected_nodes_out_list = sorted(dict(comics_graph.out_degree()).items(), key = lambda x: x[1], reverse = True)"
   ]
  },
  {
   "cell_type": "markdown",
   "metadata": {},
   "source": [
    "Here, we present the 5 characters with the most \"in\"-links, which means that other characters refer to those within their Wiki pages."
   ]
  },
  {
   "cell_type": "code",
   "execution_count": 146,
   "metadata": {},
   "outputs": [
    {
     "name": "stdout",
     "output_type": "stream",
     "text": [
      "Superman                  In-degree: 570\n",
      "Batman                    In-degree: 559\n",
      "Spider-Man                In-degree: 466\n",
      "Captain America           In-degree: 392\n",
      "Wonder Woman              In-degree: 340\n"
     ]
    }
   ],
   "source": [
    "for character, in_degree in connected_nodes_in_list[:5]:\n",
    "    node = comics_graph.nodes[character]\n",
    "    print(character.ljust(25), 'In-degree:', in_degree)"
   ]
  },
  {
   "cell_type": "markdown",
   "metadata": {},
   "source": [
    "<span style=\"color:blue\">This is exactly as we would have expected, since the in-degree refers to the number of nodes/characters which \"mention you\", meaning that the most popular characters across Marvel & DC should be the ones with the highest in-degrees. Superman, Batman, and all the other 3 characters here are widely known main-characters, and most other characters in the comic universes link to them as supporting or antagonist characters.</span>"
   ]
  },
  {
   "cell_type": "markdown",
   "metadata": {},
   "source": [
    "Let us also present the 5 characters with most \"out\"-links, meaning that they have most references to other characters."
   ]
  },
  {
   "cell_type": "code",
   "execution_count": 148,
   "metadata": {},
   "outputs": [
    {
     "name": "stdout",
     "output_type": "stream",
     "text": [
      "Brute                     Out-degree: 67\n",
      "Beast                     Out-degree: 64\n",
      "Barracuda (II)            Out-degree: 63\n",
      "Jackal                    Out-degree: 62\n",
      "Belthera, Queen           Out-degree: 51\n"
     ]
    }
   ],
   "source": [
    "for character, out_degree in connected_nodes_out_list[:5]:\n",
    "    node = comics_graph.nodes[character]\n",
    "    print(character.ljust(25), 'Out-degree:', out_degree)"
   ]
  },
  {
   "cell_type": "markdown",
   "metadata": {},
   "source": [
    "<span style=\"color:blue\">These characters are having the largest number of direct outgoing connections to other members of the universes. This means that they are most likely recurring cast of the series, which serve a supporting role, and have met many other characters throughout the comic book volumes. These characters are clearly less popular than the ones we have seen in the list above, therefore, it is hard to say whether they were expected or not, however a long-term comic book fan could probably confirm these findings.</span>"
   ]
  },
  {
   "cell_type": "markdown",
   "metadata": {},
   "source": [
    "> * Who are the top 5 most connected Marvel characters (again in terms of both in/out-degree)?\n",
    "> * Who are the top 5 most connected DC characters (again in terms of both in/out-degree)?"
   ]
  },
  {
   "cell_type": "markdown",
   "metadata": {},
   "source": [
    "> The total degree distribution (in + out degree) for you network should resemble the distribution displayed on the image below *(`Isolated` means that we have discarded the nodes with zero degrees)*:\n",
    "![img](https://github.com/SocialComplexityLab/socialgraphs2020/blob/master/files/week4_degrees.png?raw=true)\n",
    "\n",
    "> *Tip:* If you want your `matplotlib` plots to look *fancy*, you can download the `seaborn` package and do the following: `import seaborn as sns\n",
    "sns.set()`\n"
   ]
  },
  {
   "cell_type": "markdown",
   "metadata": {},
   "source": [
    "Big thanks to TA Germans for helping design these exercises."
   ]
  }
 ],
 "metadata": {
  "anaconda-cloud": {},
  "kernelspec": {
   "display_name": "Python 3",
   "language": "python",
   "name": "python3"
  },
  "language_info": {
   "codemirror_mode": {
    "name": "ipython",
    "version": 3
   },
   "file_extension": ".py",
   "mimetype": "text/x-python",
   "name": "python",
   "nbconvert_exporter": "python",
   "pygments_lexer": "ipython3",
   "version": "3.7.9"
  }
 },
 "nbformat": 4,
 "nbformat_minor": 4
}
